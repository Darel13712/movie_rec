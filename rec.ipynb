{
 "cells": [
  {
   "cell_type": "markdown",
   "metadata": {},
   "source": [
    "Этот рекомендатель основан на наборе данных movie lens, представленных на [kaggle](https://inclass.kaggle.com/c/movie)"
   ]
  },
  {
   "cell_type": "code",
   "execution_count": 1,
   "metadata": {
    "collapsed": true
   },
   "outputs": [],
   "source": [
    "import pandas as pd\n",
    "import numpy as np\n",
    "from scipy.sparse import lil_matrix, dok_matrix\n",
    "from scipy.stats import pearsonr\n",
    "import matplotlib.pyplot as plt\n",
    "import seaborn as sns"
   ]
  },
  {
   "cell_type": "code",
   "execution_count": 2,
   "metadata": {
    "collapsed": false
   },
   "outputs": [
    {
     "data": {
      "text/html": [
       "<div>\n",
       "<table border=\"1\" class=\"dataframe\">\n",
       "  <thead>\n",
       "    <tr style=\"text-align: right;\">\n",
       "      <th></th>\n",
       "      <th>user</th>\n",
       "      <th>movie</th>\n",
       "      <th>rating</th>\n",
       "    </tr>\n",
       "  </thead>\n",
       "  <tbody>\n",
       "    <tr>\n",
       "      <th>count</th>\n",
       "      <td>500100.000000</td>\n",
       "      <td>500100.000000</td>\n",
       "      <td>500100.000000</td>\n",
       "    </tr>\n",
       "    <tr>\n",
       "      <th>mean</th>\n",
       "      <td>4408.620518</td>\n",
       "      <td>1834.281214</td>\n",
       "      <td>3.602224</td>\n",
       "    </tr>\n",
       "    <tr>\n",
       "      <th>std</th>\n",
       "      <td>926.274862</td>\n",
       "      <td>1076.388887</td>\n",
       "      <td>1.114688</td>\n",
       "    </tr>\n",
       "    <tr>\n",
       "      <th>min</th>\n",
       "      <td>2783.000000</td>\n",
       "      <td>1.000000</td>\n",
       "      <td>1.000000</td>\n",
       "    </tr>\n",
       "    <tr>\n",
       "      <th>25%</th>\n",
       "      <td>3622.000000</td>\n",
       "      <td>1022.000000</td>\n",
       "      <td>3.000000</td>\n",
       "    </tr>\n",
       "    <tr>\n",
       "      <th>50%</th>\n",
       "      <td>4371.000000</td>\n",
       "      <td>1767.000000</td>\n",
       "      <td>4.000000</td>\n",
       "    </tr>\n",
       "    <tr>\n",
       "      <th>75%</th>\n",
       "      <td>5220.000000</td>\n",
       "      <td>2724.000000</td>\n",
       "      <td>4.000000</td>\n",
       "    </tr>\n",
       "    <tr>\n",
       "      <th>max</th>\n",
       "      <td>6040.000000</td>\n",
       "      <td>3952.000000</td>\n",
       "      <td>5.000000</td>\n",
       "    </tr>\n",
       "  </tbody>\n",
       "</table>\n",
       "</div>"
      ],
      "text/plain": [
       "                user          movie         rating\n",
       "count  500100.000000  500100.000000  500100.000000\n",
       "mean     4408.620518    1834.281214       3.602224\n",
       "std       926.274862    1076.388887       1.114688\n",
       "min      2783.000000       1.000000       1.000000\n",
       "25%      3622.000000    1022.000000       3.000000\n",
       "50%      4371.000000    1767.000000       4.000000\n",
       "75%      5220.000000    2724.000000       4.000000\n",
       "max      6040.000000    3952.000000       5.000000"
      ]
     },
     "execution_count": 2,
     "metadata": {},
     "output_type": "execute_result"
    }
   ],
   "source": [
    "df = pd.read_csv('training_ratings_for_kaggle_comp.csv', index_col = 'id')\n",
    "df[['rating']] = df[['rating']].astype('float')\n",
    "df.describe()"
   ]
  },
  {
   "cell_type": "markdown",
   "metadata": {},
   "source": [
    "В обучающей выборке представлены оценки только для пользователей, начиная с номера 2783, а предсказания нужно делать для всех 6040 пользователей, значит, случаи с \"новыми\" пользователями нужно обрабатывать особо."
   ]
  },
  {
   "cell_type": "code",
   "execution_count": 3,
   "metadata": {
    "collapsed": false
   },
   "outputs": [
    {
     "data": {
      "text/plain": [
       "3551"
      ]
     },
     "execution_count": 3,
     "metadata": {},
     "output_type": "execute_result"
    }
   ],
   "source": [
    "movies_with_ratings = df['movie'].unique()\n",
    "len(movies_with_ratings)"
   ]
  },
  {
   "cell_type": "markdown",
   "metadata": {},
   "source": [
    "Кроме того, есть фильмы без оценок."
   ]
  },
  {
   "cell_type": "code",
   "execution_count": 4,
   "metadata": {
    "collapsed": false
   },
   "outputs": [
    {
     "data": {
      "text/plain": [
       "count    3551.000000\n",
       "mean      140.833568\n",
       "std       200.241913\n",
       "min         1.000000\n",
       "25%        18.000000\n",
       "50%        66.000000\n",
       "75%       181.000000\n",
       "max      1684.000000\n",
       "Name: user, dtype: float64"
      ]
     },
     "execution_count": 4,
     "metadata": {},
     "output_type": "execute_result"
    }
   ],
   "source": [
    "number_of_ratings = df['user'].groupby(df['movie']).count()\n",
    "number_of_ratings.describe()"
   ]
  },
  {
   "cell_type": "code",
   "execution_count": 44,
   "metadata": {
    "collapsed": false
   },
   "outputs": [
    {
     "data": {
      "image/png": "[encoded data removed]",
      "text/plain": [
       "<matplotlib.figure.Figure at 0xb32ec50>"
      ]
     },
     "metadata": {},
     "output_type": "display_data"
    }
   ],
   "source": [
    "plt.hist(number_of_ratings, bins = 60, log = True);\n",
    "plt.title('Many films have only 1 rating')\n",
    "plt.ylabel('# films')\n",
    "plt.xlabel('# ratings')\n",
    "plt.show()"
   ]
  },
  {
   "cell_type": "markdown",
   "metadata": {},
   "source": [
    "У большого количества фильмов мало оценок. Фильмы с малым количеством оценок стоит считать как фильмы без оценок, так как их средняя оценка искажена. Теперь подготовим данные пользователей и фильмов."
   ]
  },
  {
   "cell_type": "code",
   "execution_count": 98,
   "metadata": {
    "collapsed": false
   },
   "outputs": [
    {
     "data": {
      "text/html": [
       "<div>\n",
       "<table border=\"1\" class=\"dataframe\">\n",
       "  <thead>\n",
       "    <tr style=\"text-align: right;\">\n",
       "      <th></th>\n",
       "      <th>name</th>\n",
       "      <th>genre</th>\n",
       "    </tr>\n",
       "  </thead>\n",
       "  <tbody>\n",
       "    <tr>\n",
       "      <th>1</th>\n",
       "      <td>Toy Story (1995)</td>\n",
       "      <td>Animation|Children's|Comedy</td>\n",
       "    </tr>\n",
       "    <tr>\n",
       "      <th>2</th>\n",
       "      <td>Jumanji (1995)</td>\n",
       "      <td>Adventure|Children's|Fantasy</td>\n",
       "    </tr>\n",
       "    <tr>\n",
       "      <th>3</th>\n",
       "      <td>Grumpier Old Men (1995)</td>\n",
       "      <td>Comedy|Romance</td>\n",
       "    </tr>\n",
       "    <tr>\n",
       "      <th>4</th>\n",
       "      <td>Waiting to Exhale (1995)</td>\n",
       "      <td>Comedy|Drama</td>\n",
       "    </tr>\n",
       "    <tr>\n",
       "      <th>5</th>\n",
       "      <td>Father of the Bride Part II (1995)</td>\n",
       "      <td>Comedy</td>\n",
       "    </tr>\n",
       "  </tbody>\n",
       "</table>\n",
       "</div>"
      ],
      "text/plain": [
       "                                 name                         genre\n",
       "1                    Toy Story (1995)   Animation|Children's|Comedy\n",
       "2                      Jumanji (1995)  Adventure|Children's|Fantasy\n",
       "3             Grumpier Old Men (1995)                Comedy|Romance\n",
       "4            Waiting to Exhale (1995)                  Comedy|Drama\n",
       "5  Father of the Bride Part II (1995)                        Comedy"
      ]
     },
     "execution_count": 98,
     "metadata": {},
     "output_type": "execute_result"
    }
   ],
   "source": [
    "# movies = pd.read_csv('movies.dat',  sep = '::', index_col = 0, header = None, names = ['name', 'genre'], engine = 'python' )\n",
    "# movies.head()"
   ]
  },
  {
   "cell_type": "code",
   "execution_count": 6,
   "metadata": {
    "collapsed": false
   },
   "outputs": [
    {
     "data": {
      "text/html": [
       "<div>\n",
       "<table border=\"1\" class=\"dataframe\">\n",
       "  <thead>\n",
       "    <tr style=\"text-align: right;\">\n",
       "      <th></th>\n",
       "      <th>name</th>\n",
       "      <th>genre</th>\n",
       "      <th>avg</th>\n",
       "      <th>year</th>\n",
       "      <th>Action</th>\n",
       "      <th>Adventure</th>\n",
       "      <th>Animation</th>\n",
       "      <th>Children's</th>\n",
       "      <th>Comedy</th>\n",
       "      <th>Crime</th>\n",
       "      <th>...</th>\n",
       "      <th>Fantasy_avg</th>\n",
       "      <th>Film-Noir_avg</th>\n",
       "      <th>Horror_avg</th>\n",
       "      <th>Musical_avg</th>\n",
       "      <th>Mystery_avg</th>\n",
       "      <th>Romance_avg</th>\n",
       "      <th>Sci-Fi_avg</th>\n",
       "      <th>Thriller_avg</th>\n",
       "      <th>War_avg</th>\n",
       "      <th>Western_avg</th>\n",
       "    </tr>\n",
       "  </thead>\n",
       "  <tbody>\n",
       "    <tr>\n",
       "      <th>1</th>\n",
       "      <td>Toy Story (1995)</td>\n",
       "      <td>[Animation, Children's, Comedy]</td>\n",
       "      <td>4.14663</td>\n",
       "      <td>0.987624</td>\n",
       "      <td>0.0</td>\n",
       "      <td>0.0</td>\n",
       "      <td>1.209339</td>\n",
       "      <td>0.918841</td>\n",
       "      <td>0.3973</td>\n",
       "      <td>0.0</td>\n",
       "      <td>...</td>\n",
       "      <td>3.473889</td>\n",
       "      <td>4.083638</td>\n",
       "      <td>3.237581</td>\n",
       "      <td>3.680531</td>\n",
       "      <td>3.699951</td>\n",
       "      <td>3.627256</td>\n",
       "      <td>3.492792</td>\n",
       "      <td>3.606233</td>\n",
       "      <td>3.907507</td>\n",
       "      <td>3.672569</td>\n",
       "    </tr>\n",
       "  </tbody>\n",
       "</table>\n",
       "<p>1 rows × 40 columns</p>\n",
       "</div>"
      ],
      "text/plain": [
       "               name                            genre      avg      year  \\\n",
       "1  Toy Story (1995)  [Animation, Children's, Comedy]  4.14663  0.987624   \n",
       "\n",
       "   Action  Adventure  Animation  Children's  Comedy  Crime     ...       \\\n",
       "1     0.0        0.0   1.209339    0.918841  0.3973    0.0     ...        \n",
       "\n",
       "   Fantasy_avg  Film-Noir_avg  Horror_avg  Musical_avg  Mystery_avg  \\\n",
       "1     3.473889       4.083638    3.237581     3.680531     3.699951   \n",
       "\n",
       "   Romance_avg  Sci-Fi_avg  Thriller_avg   War_avg  Western_avg  \n",
       "1     3.627256    3.492792      3.606233  3.907507     3.672569  \n",
       "\n",
       "[1 rows x 40 columns]"
      ]
     },
     "execution_count": 6,
     "metadata": {},
     "output_type": "execute_result"
    }
   ],
   "source": [
    "movies = pd.read_csv('movies.dat',  sep = '::', index_col = 0, header = None, names = ['name', 'genre'], engine = 'python' )\n",
    "genres = ['Action','Adventure','Animation','Children\\'s','Comedy','Crime','Documentary','Drama','Fantasy','Film-Noir','Horror','Musical','Mystery','Romance','Sci-Fi','Thriller','War','Western']\n",
    "\n",
    "# Создадим признаки фильмов -- среднюю оценку, год и т.п.\n",
    "movies['avg']=df['rating'].groupby(df['movie']).mean()\n",
    "movies['genre'] = movies['genre'].str.split('|')\n",
    "movies = movies.reindex(columns = ['name', 'genre', 'avg', 'year']+genres)\n",
    "\n",
    "for ix, row in movies.iterrows():\n",
    "    # Нормируем, чтобы значения не были значительно больше других признаков\n",
    "    year = int(row['name'][-5:-1])/2020.0\n",
    "    movies.loc[ix, 'year'] = year\n",
    "    # Считаем term frequency жанров для фильма   \n",
    "    tf = len(row['genre'])**(-1)\n",
    "    for genre in row['genre']:\n",
    "        movies.loc[ix, genre] = tf\n",
    "movies.fillna(0, inplace=True)\n",
    "\n",
    "for genre in genres:\n",
    "    genre_movies = movies[movies[genre]>0].index.tolist()\n",
    "    movies[genre+'_avg'] = df.loc[df['movie'].isin(genre_movies),'rating'].mean()\n",
    "# TFIDF по жанрам как профиль фильма\n",
    "    movies[genre]*=np.log(3952/movies.loc[movies[genre]>0,genre].count())\n",
    "movies.head(1)"
   ]
  },
  {
   "cell_type": "markdown",
   "metadata": {},
   "source": [
    "Теперь пользователи"
   ]
  },
  {
   "cell_type": "code",
   "execution_count": 58,
   "metadata": {
    "collapsed": false
   },
   "outputs": [
    {
     "data": {
      "text/html": [
       "<div>\n",
       "<table border=\"1\" class=\"dataframe\">\n",
       "  <thead>\n",
       "    <tr style=\"text-align: right;\">\n",
       "      <th></th>\n",
       "      <th>sex</th>\n",
       "      <th>age</th>\n",
       "      <th>job</th>\n",
       "      <th>zip</th>\n",
       "    </tr>\n",
       "  </thead>\n",
       "  <tbody>\n",
       "    <tr>\n",
       "      <th>1</th>\n",
       "      <td>F</td>\n",
       "      <td>1</td>\n",
       "      <td>10</td>\n",
       "      <td>48067</td>\n",
       "    </tr>\n",
       "    <tr>\n",
       "      <th>2</th>\n",
       "      <td>M</td>\n",
       "      <td>56</td>\n",
       "      <td>16</td>\n",
       "      <td>70072</td>\n",
       "    </tr>\n",
       "    <tr>\n",
       "      <th>3</th>\n",
       "      <td>M</td>\n",
       "      <td>25</td>\n",
       "      <td>15</td>\n",
       "      <td>55117</td>\n",
       "    </tr>\n",
       "    <tr>\n",
       "      <th>4</th>\n",
       "      <td>M</td>\n",
       "      <td>45</td>\n",
       "      <td>7</td>\n",
       "      <td>02460</td>\n",
       "    </tr>\n",
       "    <tr>\n",
       "      <th>5</th>\n",
       "      <td>M</td>\n",
       "      <td>25</td>\n",
       "      <td>20</td>\n",
       "      <td>55455</td>\n",
       "    </tr>\n",
       "  </tbody>\n",
       "</table>\n",
       "</div>"
      ],
      "text/plain": [
       "  sex  age  job    zip\n",
       "1   F    1   10  48067\n",
       "2   M   56   16  70072\n",
       "3   M   25   15  55117\n",
       "4   M   45    7  02460\n",
       "5   M   25   20  55455"
      ]
     },
     "execution_count": 58,
     "metadata": {},
     "output_type": "execute_result"
    }
   ],
   "source": [
    "# users = pd.read_csv('users.dat', sep = '::', index_col = 0, header = None, names = ['sex', 'age', 'job', 'zip'], engine = 'python')\n",
    "# users.head()"
   ]
  },
  {
   "cell_type": "markdown",
   "metadata": {},
   "source": [
    "Zip сам по себе бесполезен, слишком много значений. Польза может быть, если сгруппировать индексы по городам или штатам -- возможно, когда-нибудь."
   ]
  },
  {
   "cell_type": "code",
   "execution_count": 7,
   "metadata": {
    "collapsed": false
   },
   "outputs": [
    {
     "data": {
      "text/html": [
       "<div>\n",
       "<table border=\"1\" class=\"dataframe\">\n",
       "  <thead>\n",
       "    <tr style=\"text-align: right;\">\n",
       "      <th></th>\n",
       "      <th>sex</th>\n",
       "      <th>age</th>\n",
       "      <th>mean</th>\n",
       "      <th>std</th>\n",
       "      <th>like_Action</th>\n",
       "      <th>Action_mean</th>\n",
       "      <th>like_Adventure</th>\n",
       "      <th>Adventure_mean</th>\n",
       "      <th>like_Animation</th>\n",
       "      <th>Animation_mean</th>\n",
       "      <th>...</th>\n",
       "      <th>job_11</th>\n",
       "      <th>job_12</th>\n",
       "      <th>job_13</th>\n",
       "      <th>job_14</th>\n",
       "      <th>job_15</th>\n",
       "      <th>job_16</th>\n",
       "      <th>job_17</th>\n",
       "      <th>job_18</th>\n",
       "      <th>job_19</th>\n",
       "      <th>job_20</th>\n",
       "    </tr>\n",
       "  </thead>\n",
       "  <tbody>\n",
       "    <tr>\n",
       "      <th>6036</th>\n",
       "      <td>0</td>\n",
       "      <td>0.446429</td>\n",
       "      <td>3.302928</td>\n",
       "      <td>1.023684</td>\n",
       "      <td>0.292208</td>\n",
       "      <td>3.000000</td>\n",
       "      <td>0.253012</td>\n",
       "      <td>2.987952</td>\n",
       "      <td>0.647059</td>\n",
       "      <td>3.911765</td>\n",
       "      <td>...</td>\n",
       "      <td>0</td>\n",
       "      <td>0</td>\n",
       "      <td>0</td>\n",
       "      <td>0</td>\n",
       "      <td>1</td>\n",
       "      <td>0</td>\n",
       "      <td>0</td>\n",
       "      <td>0</td>\n",
       "      <td>0</td>\n",
       "      <td>0</td>\n",
       "    </tr>\n",
       "    <tr>\n",
       "      <th>6037</th>\n",
       "      <td>0</td>\n",
       "      <td>0.803571</td>\n",
       "      <td>3.717822</td>\n",
       "      <td>0.877910</td>\n",
       "      <td>0.571429</td>\n",
       "      <td>3.642857</td>\n",
       "      <td>0.888889</td>\n",
       "      <td>4.000000</td>\n",
       "      <td>0.600000</td>\n",
       "      <td>4.000000</td>\n",
       "      <td>...</td>\n",
       "      <td>0</td>\n",
       "      <td>0</td>\n",
       "      <td>0</td>\n",
       "      <td>0</td>\n",
       "      <td>0</td>\n",
       "      <td>0</td>\n",
       "      <td>0</td>\n",
       "      <td>0</td>\n",
       "      <td>0</td>\n",
       "      <td>0</td>\n",
       "    </tr>\n",
       "    <tr>\n",
       "      <th>6038</th>\n",
       "      <td>0</td>\n",
       "      <td>1.000000</td>\n",
       "      <td>3.800000</td>\n",
       "      <td>1.105013</td>\n",
       "      <td>0.500000</td>\n",
       "      <td>3.000000</td>\n",
       "      <td>0.583333</td>\n",
       "      <td>4.000000</td>\n",
       "      <td>0.666667</td>\n",
       "      <td>3.666667</td>\n",
       "      <td>...</td>\n",
       "      <td>0</td>\n",
       "      <td>0</td>\n",
       "      <td>0</td>\n",
       "      <td>0</td>\n",
       "      <td>0</td>\n",
       "      <td>0</td>\n",
       "      <td>0</td>\n",
       "      <td>0</td>\n",
       "      <td>0</td>\n",
       "      <td>0</td>\n",
       "    </tr>\n",
       "    <tr>\n",
       "      <th>6039</th>\n",
       "      <td>0</td>\n",
       "      <td>0.803571</td>\n",
       "      <td>3.878049</td>\n",
       "      <td>0.730881</td>\n",
       "      <td>0.750000</td>\n",
       "      <td>4.000000</td>\n",
       "      <td>0.800000</td>\n",
       "      <td>4.100000</td>\n",
       "      <td>0.615385</td>\n",
       "      <td>3.615385</td>\n",
       "      <td>...</td>\n",
       "      <td>0</td>\n",
       "      <td>0</td>\n",
       "      <td>0</td>\n",
       "      <td>0</td>\n",
       "      <td>0</td>\n",
       "      <td>0</td>\n",
       "      <td>0</td>\n",
       "      <td>0</td>\n",
       "      <td>0</td>\n",
       "      <td>0</td>\n",
       "    </tr>\n",
       "    <tr>\n",
       "      <th>6040</th>\n",
       "      <td>1</td>\n",
       "      <td>0.446429</td>\n",
       "      <td>3.544025</td>\n",
       "      <td>1.203155</td>\n",
       "      <td>0.307692</td>\n",
       "      <td>2.897436</td>\n",
       "      <td>0.272727</td>\n",
       "      <td>2.818182</td>\n",
       "      <td>0.500000</td>\n",
       "      <td>3.000000</td>\n",
       "      <td>...</td>\n",
       "      <td>0</td>\n",
       "      <td>0</td>\n",
       "      <td>0</td>\n",
       "      <td>0</td>\n",
       "      <td>0</td>\n",
       "      <td>0</td>\n",
       "      <td>0</td>\n",
       "      <td>0</td>\n",
       "      <td>0</td>\n",
       "      <td>0</td>\n",
       "    </tr>\n",
       "  </tbody>\n",
       "</table>\n",
       "<p>5 rows × 61 columns</p>\n",
       "</div>"
      ],
      "text/plain": [
       "      sex       age      mean       std  like_Action  Action_mean  \\\n",
       "6036    0  0.446429  3.302928  1.023684     0.292208     3.000000   \n",
       "6037    0  0.803571  3.717822  0.877910     0.571429     3.642857   \n",
       "6038    0  1.000000  3.800000  1.105013     0.500000     3.000000   \n",
       "6039    0  0.803571  3.878049  0.730881     0.750000     4.000000   \n",
       "6040    1  0.446429  3.544025  1.203155     0.307692     2.897436   \n",
       "\n",
       "      like_Adventure  Adventure_mean  like_Animation  Animation_mean   ...    \\\n",
       "6036        0.253012        2.987952        0.647059        3.911765   ...     \n",
       "6037        0.888889        4.000000        0.600000        4.000000   ...     \n",
       "6038        0.583333        4.000000        0.666667        3.666667   ...     \n",
       "6039        0.800000        4.100000        0.615385        3.615385   ...     \n",
       "6040        0.272727        2.818182        0.500000        3.000000   ...     \n",
       "\n",
       "      job_11  job_12  job_13  job_14  job_15  job_16  job_17  job_18  job_19  \\\n",
       "6036       0       0       0       0       1       0       0       0       0   \n",
       "6037       0       0       0       0       0       0       0       0       0   \n",
       "6038       0       0       0       0       0       0       0       0       0   \n",
       "6039       0       0       0       0       0       0       0       0       0   \n",
       "6040       0       0       0       0       0       0       0       0       0   \n",
       "\n",
       "      job_20  \n",
       "6036       0  \n",
       "6037       0  \n",
       "6038       0  \n",
       "6039       0  \n",
       "6040       0  \n",
       "\n",
       "[5 rows x 61 columns]"
      ]
     },
     "execution_count": 7,
     "metadata": {},
     "output_type": "execute_result"
    }
   ],
   "source": [
    "users = pd.read_csv('users.dat', sep = '::', index_col = 0, header = None, names = ['sex', 'age', 'job', 'zip'], engine = 'python')\n",
    "users.drop('zip', 1, inplace  = True)\n",
    "\n",
    "users['mean']=df['rating'].groupby(df['user']).mean()\n",
    "users['mean'].fillna(users['mean'].mean(), inplace=True)\n",
    "users['std']=df['rating'].groupby(df['user']).std()\n",
    "users['std'].fillna(users['std'].mean(), inplace=True)\n",
    "users['sex'].replace(['F','M'],[0, 1], inplace = True)\n",
    "users['age']/=56\n",
    "\n",
    "\n",
    "good_df = df[df['rating'] > 3]\n",
    "bad_df = df[df['rating'] <= 3]\n",
    "for genre in genres:\n",
    "#     Берём все фильмы данного жанра\n",
    "    genre_movies = movies[movies[genre]>0].index.tolist()\n",
    "    \n",
    "#     Количество просмотров фильмов данного жанра, которые понравились\n",
    "    user_genre_watch_good = good_df.loc[good_df['movie'].isin(genre_movies),'user'].groupby(good_df['user']).count()\n",
    "    \n",
    "#     и которые не понравились\n",
    "    user_genre_watch_bad = bad_df.loc[bad_df['movie'].isin(genre_movies),'user'].groupby(bad_df['user']).count()\n",
    "    \n",
    "#     вероятность того, что фильм жанра понравится\n",
    "    prob = user_genre_watch_good / (user_genre_watch_good + user_genre_watch_bad)\n",
    "    \n",
    "#     запишем это в таблицу\n",
    "    users.loc[:,'like_'+genre] = prob\n",
    "    \n",
    "#     забьем пустые значения\n",
    "    med_prob = user_genre_watch_good.median() / (user_genre_watch_good.median() + user_genre_watch_bad.median())\n",
    "    users.loc[:,'like_'+genre].fillna(med_prob,inplace = True)\n",
    "    \n",
    "#     Средний рейтинг жанра\n",
    "    user_genre_rating = df.loc[df['movie'].isin(genre_movies),'rating'].groupby(df['user']).mean()\n",
    "    users.loc[:,genre+'_mean'] = user_genre_rating\n",
    "    users.loc[:,genre+'_mean'].fillna(movies.loc[1,genre+'_avg'], inplace=True)\n",
    "users = pd.get_dummies(users, columns = ['job'])\n",
    "\n",
    "users.tail()"
   ]
  },
  {
   "cell_type": "code",
   "execution_count": 8,
   "metadata": {
    "collapsed": false
   },
   "outputs": [],
   "source": [
    "def my_test_split(x, n_left = 100):\n",
    "#   отложим n_left юзеров для оценки модели\n",
    "    user_list = []\n",
    "    for i in range(n_left):\n",
    "        u = np.random.choice(x['user'])\n",
    "        user_list.append(u)\n",
    "    user_list = np.unique(user_list)\n",
    "    y_train = x.loc[~x['user'].isin(user_list), 'rating']\n",
    "    y_test = x.loc[x['user'].isin(user_list), 'rating']\n",
    "    x_test = x[x['user'].isin(user_list)].drop('rating', axis = 1)\n",
    "    x_train = x[~x['user'].isin(user_list)].drop('rating', axis = 1)\n",
    "    return x_train, x_test, y_train, y_test\n",
    "\n",
    "def dcg_score(y_true, y_score, k=100):\n",
    "    \n",
    "    order = np.argsort(y_score)[::-1]\n",
    "    y_true = np.take(y_true, order[:k])\n",
    "    \n",
    "    gain = 2 ** y_true - 1\n",
    "    discounts = np.log2(np.arange(len(y_true)) + 2)\n",
    "    \n",
    "    return np.sum(gain / discounts)\n",
    "\n",
    "def ndcg_score(y_true, y_score, k=100):\n",
    "    y_score = pd.Series(y_score.tolist())\n",
    "    y_score.index = y_test.index\n",
    "    score = []\n",
    "    for user, group in df.loc[y_test.index,'rating'].groupby(df['user']):\n",
    "        ix = group.index\n",
    "        actual = dcg_score(y_true.loc[ix], y_score.loc[ix], k)\n",
    "        best = dcg_score(y_true[ix], y_true[ix], k)\n",
    "        score.append(actual / best)\n",
    "    return np.mean(score)"
   ]
  },
  {
   "cell_type": "markdown",
   "metadata": {},
   "source": [
    "Объединим полученные фичи для обучения модели"
   ]
  },
  {
   "cell_type": "code",
   "execution_count": 9,
   "metadata": {
    "collapsed": false
   },
   "outputs": [
    {
     "data": {
      "text/html": [
       "<div>\n",
       "<table border=\"1\" class=\"dataframe\">\n",
       "  <thead>\n",
       "    <tr style=\"text-align: right;\">\n",
       "      <th></th>\n",
       "      <th>user</th>\n",
       "      <th>movie</th>\n",
       "      <th>rating</th>\n",
       "      <th>sex</th>\n",
       "      <th>age</th>\n",
       "      <th>mean</th>\n",
       "      <th>std</th>\n",
       "      <th>job_0</th>\n",
       "      <th>job_1</th>\n",
       "      <th>job_2</th>\n",
       "      <th>...</th>\n",
       "      <th>job_15</th>\n",
       "      <th>job_16</th>\n",
       "      <th>job_17</th>\n",
       "      <th>job_18</th>\n",
       "      <th>job_19</th>\n",
       "      <th>job_20</th>\n",
       "      <th>avg</th>\n",
       "      <th>year</th>\n",
       "      <th>interest</th>\n",
       "      <th>guess</th>\n",
       "    </tr>\n",
       "    <tr>\n",
       "      <th>id</th>\n",
       "      <th></th>\n",
       "      <th></th>\n",
       "      <th></th>\n",
       "      <th></th>\n",
       "      <th></th>\n",
       "      <th></th>\n",
       "      <th></th>\n",
       "      <th></th>\n",
       "      <th></th>\n",
       "      <th></th>\n",
       "      <th></th>\n",
       "      <th></th>\n",
       "      <th></th>\n",
       "      <th></th>\n",
       "      <th></th>\n",
       "      <th></th>\n",
       "      <th></th>\n",
       "      <th></th>\n",
       "      <th></th>\n",
       "      <th></th>\n",
       "      <th></th>\n",
       "    </tr>\n",
       "  </thead>\n",
       "  <tbody>\n",
       "    <tr>\n",
       "      <th>6040_1091</th>\n",
       "      <td>6040</td>\n",
       "      <td>1091</td>\n",
       "      <td>1.0</td>\n",
       "      <td>1</td>\n",
       "      <td>0.446429</td>\n",
       "      <td>3.544025</td>\n",
       "      <td>1.203155</td>\n",
       "      <td>0</td>\n",
       "      <td>0</td>\n",
       "      <td>0</td>\n",
       "      <td>...</td>\n",
       "      <td>0</td>\n",
       "      <td>0</td>\n",
       "      <td>0</td>\n",
       "      <td>0</td>\n",
       "      <td>0</td>\n",
       "      <td>0</td>\n",
       "      <td>2.789189</td>\n",
       "      <td>0.984653</td>\n",
       "      <td>0.639862</td>\n",
       "      <td>3.851720</td>\n",
       "    </tr>\n",
       "    <tr>\n",
       "      <th>6040_1094</th>\n",
       "      <td>6040</td>\n",
       "      <td>1094</td>\n",
       "      <td>5.0</td>\n",
       "      <td>1</td>\n",
       "      <td>0.446429</td>\n",
       "      <td>3.544025</td>\n",
       "      <td>1.203155</td>\n",
       "      <td>0</td>\n",
       "      <td>0</td>\n",
       "      <td>0</td>\n",
       "      <td>...</td>\n",
       "      <td>0</td>\n",
       "      <td>0</td>\n",
       "      <td>0</td>\n",
       "      <td>0</td>\n",
       "      <td>0</td>\n",
       "      <td>0</td>\n",
       "      <td>3.699690</td>\n",
       "      <td>0.986139</td>\n",
       "      <td>1.132964</td>\n",
       "      <td>2.569513</td>\n",
       "    </tr>\n",
       "    <tr>\n",
       "      <th>6040_562</th>\n",
       "      <td>6040</td>\n",
       "      <td>562</td>\n",
       "      <td>5.0</td>\n",
       "      <td>1</td>\n",
       "      <td>0.446429</td>\n",
       "      <td>3.544025</td>\n",
       "      <td>1.203155</td>\n",
       "      <td>0</td>\n",
       "      <td>0</td>\n",
       "      <td>0</td>\n",
       "      <td>...</td>\n",
       "      <td>0</td>\n",
       "      <td>0</td>\n",
       "      <td>0</td>\n",
       "      <td>0</td>\n",
       "      <td>0</td>\n",
       "      <td>0</td>\n",
       "      <td>3.822581</td>\n",
       "      <td>0.987624</td>\n",
       "      <td>0.620713</td>\n",
       "      <td>1.821195</td>\n",
       "    </tr>\n",
       "    <tr>\n",
       "      <th>6040_1096</th>\n",
       "      <td>6040</td>\n",
       "      <td>1096</td>\n",
       "      <td>4.0</td>\n",
       "      <td>1</td>\n",
       "      <td>0.446429</td>\n",
       "      <td>3.544025</td>\n",
       "      <td>1.203155</td>\n",
       "      <td>0</td>\n",
       "      <td>0</td>\n",
       "      <td>0</td>\n",
       "      <td>...</td>\n",
       "      <td>0</td>\n",
       "      <td>0</td>\n",
       "      <td>0</td>\n",
       "      <td>0</td>\n",
       "      <td>0</td>\n",
       "      <td>0</td>\n",
       "      <td>3.971591</td>\n",
       "      <td>0.981188</td>\n",
       "      <td>0.601563</td>\n",
       "      <td>3.433059</td>\n",
       "    </tr>\n",
       "    <tr>\n",
       "      <th>6040_1097</th>\n",
       "      <td>6040</td>\n",
       "      <td>1097</td>\n",
       "      <td>4.0</td>\n",
       "      <td>1</td>\n",
       "      <td>0.446429</td>\n",
       "      <td>3.544025</td>\n",
       "      <td>1.203155</td>\n",
       "      <td>0</td>\n",
       "      <td>0</td>\n",
       "      <td>0</td>\n",
       "      <td>...</td>\n",
       "      <td>0</td>\n",
       "      <td>0</td>\n",
       "      <td>0</td>\n",
       "      <td>0</td>\n",
       "      <td>0</td>\n",
       "      <td>0</td>\n",
       "      <td>3.935484</td>\n",
       "      <td>0.981188</td>\n",
       "      <td>1.781970</td>\n",
       "      <td>2.367453</td>\n",
       "    </tr>\n",
       "  </tbody>\n",
       "</table>\n",
       "<p>5 rows × 32 columns</p>\n",
       "</div>"
      ],
      "text/plain": [
       "           user  movie  rating  sex       age      mean       std  job_0  \\\n",
       "id                                                                         \n",
       "6040_1091  6040   1091     1.0    1  0.446429  3.544025  1.203155      0   \n",
       "6040_1094  6040   1094     5.0    1  0.446429  3.544025  1.203155      0   \n",
       "6040_562   6040    562     5.0    1  0.446429  3.544025  1.203155      0   \n",
       "6040_1096  6040   1096     4.0    1  0.446429  3.544025  1.203155      0   \n",
       "6040_1097  6040   1097     4.0    1  0.446429  3.544025  1.203155      0   \n",
       "\n",
       "           job_1  job_2    ...     job_15  job_16  job_17  job_18  job_19  \\\n",
       "id                         ...                                              \n",
       "6040_1091      0      0    ...          0       0       0       0       0   \n",
       "6040_1094      0      0    ...          0       0       0       0       0   \n",
       "6040_562       0      0    ...          0       0       0       0       0   \n",
       "6040_1096      0      0    ...          0       0       0       0       0   \n",
       "6040_1097      0      0    ...          0       0       0       0       0   \n",
       "\n",
       "           job_20       avg      year  interest     guess  \n",
       "id                                                         \n",
       "6040_1091       0  2.789189  0.984653  0.639862  3.851720  \n",
       "6040_1094       0  3.699690  0.986139  1.132964  2.569513  \n",
       "6040_562        0  3.822581  0.987624  0.620713  1.821195  \n",
       "6040_1096       0  3.971591  0.981188  0.601563  3.433059  \n",
       "6040_1097       0  3.935484  0.981188  1.781970  2.367453  \n",
       "\n",
       "[5 rows x 32 columns]"
      ]
     },
     "execution_count": 9,
     "metadata": {},
     "output_type": "execute_result"
    }
   ],
   "source": [
    "x = df.join(users, on='user')\n",
    "x = x.join(movies.loc[:,'avg':'Western'], on='movie')\n",
    "\n",
    "# sum(user-profile*movie_profile) определяет интерес пользователя к фильму\n",
    "x['interest']=0\n",
    "# предсказание оценки, основываясь только на средних значениях по жанрам\n",
    "x['guess']=0\n",
    "x['count']=0\n",
    "for genre in genres:\n",
    "    x['interest'] += x[genre]*x['like_'+genre]\n",
    "    x['guess'] += x[genre]*x[genre+'_mean']\n",
    "    x['count'] +=  (x[genre]>0).map(lambda x: int(x))\n",
    "    x.drop(genre, inplace = True, axis = 1)\n",
    "    x.drop('like_'+genre, inplace = True, axis = 1)\n",
    "    x.drop(genre+'_mean', inplace = True, axis = 1)\n",
    "x['guess']/=x['count']\n",
    "x.drop('count', inplace = True, axis = 1)\n",
    "x.tail()"
   ]
  },
  {
   "cell_type": "code",
   "execution_count": 40,
   "metadata": {
    "collapsed": false
   },
   "outputs": [
    {
     "data": {
      "text/plain": [
       "0.82461490865497444"
      ]
     },
     "execution_count": 40,
     "metadata": {},
     "output_type": "execute_result"
    }
   ],
   "source": [
    "from sklearn.linear_model import LinearRegression\n",
    "\n",
    "x_train, x_test, y_train, y_test = my_test_split(x)\n",
    "reg = LinearRegression()\n",
    "reg.fit(x_train, y_train)\n",
    "pred = reg.predict(x_test)\n",
    "ndcg_score(y_test, pred)"
   ]
  },
  {
   "cell_type": "markdown",
   "metadata": {},
   "source": [
    "Теперь порекомендуем для каждого пользователя лучшие фильмы"
   ]
  },
  {
   "cell_type": "code",
   "execution_count": 41,
   "metadata": {
    "collapsed": false
   },
   "outputs": [
    {
     "data": {
      "text/plain": [
       "LinearRegression(copy_X=True, fit_intercept=True, n_jobs=1, normalize=False)"
      ]
     },
     "execution_count": 41,
     "metadata": {},
     "output_type": "execute_result"
    }
   ],
   "source": [
    "x_train, x_test, y_train, y_test = my_test_split(x, n_left = 0)\n",
    "reg = LinearRegression()\n",
    "reg.fit(x_train, y_train)"
   ]
  },
  {
   "cell_type": "code",
   "execution_count": 42,
   "metadata": {
    "collapsed": false
   },
   "outputs": [],
   "source": [
    "# Надёжней рекомендовать хорошие фильмы, поэтому рекомендовать фильмы без оценок не будем.\n",
    "movies_without_ratings = np.array([int(x) for x in movies.index if x not in movies_with_ratings or number_of_ratings[x]<15])\n",
    "movs = movies.drop(movies_without_ratings)\n",
    "# и с плохим рейтингом тоже\n",
    "movs = movs.drop(movs.loc[movs['avg']<= 4].index)\n"
   ]
  },
  {
   "cell_type": "code",
   "execution_count": 43,
   "metadata": {
    "collapsed": false
   },
   "outputs": [
    {
     "name": "stdout",
     "output_type": "stream",
     "text": [
      "6040\r"
     ]
    }
   ],
   "source": [
    "sub = pd.DataFrame(columns = ['user', 'rating'])\n",
    "sub.set_index = 'id'\n",
    "\n",
    "# собираем данные, которые будем предсказывать\n",
    "for user in users.index:\n",
    "    f = pd.DataFrame(columns = ['user', 'movie', 'rating'])\n",
    "    f.set_index = 'id'\n",
    "    for movie in movs.index:\n",
    "        f.loc[str(user)+'_'+str(movie),:]=[user,movie, 0]\n",
    "    f = f.join(users, on='user')\n",
    "    f = f.join(movs.loc[:,'avg':'Western'], on='movie')\n",
    "    f['interest']=0\n",
    "    f['guess']=0\n",
    "    f['count']=0\n",
    "    for genre in genres:\n",
    "        f['interest'] += f[genre]*f['like_'+genre]\n",
    "        f['guess'] += f[genre]*f[genre+'_mean']\n",
    "        f['count'] +=  (f[genre]>0).map(lambda x: int(x))\n",
    "        f.drop(genre, inplace = True, axis = 1)\n",
    "        f.drop('like_'+genre, inplace = True, axis = 1)\n",
    "        f.drop(genre+'_mean', inplace = True, axis = 1)\n",
    "    f['guess']/=f['count']\n",
    "    f.drop('count', inplace = True, axis = 1)\n",
    "    pred = reg.predict(f.drop('rating', axis=1))\n",
    "    f['rating'] = pred\n",
    "    f = f.loc[:,['user','rating','movie']]\n",
    "    f.sort_values(by = 'rating', inplace = True, ascending = False)\n",
    "    sub = pd.concat([sub,f.head(100)])\n",
    "    print(user, end = '\\r')\n",
    "sub.drop('movie', inplace = True, axis = 1)\n",
    "sub['id'] = sub.index\n",
    "sub.to_csv('submission.csv', index = False)"
   ]
  }
 ],
 "metadata": {
  "kernelspec": {
   "display_name": "Python 3",
   "language": "python",
   "name": "python3"
  },
  "language_info": {
   "codemirror_mode": {
    "name": "ipython",
    "version": 3
   },
   "file_extension": ".py",
   "mimetype": "text/x-python",
   "name": "python",
   "nbconvert_exporter": "python",
   "pygments_lexer": "ipython3",
   "version": "3.6.0"
  }
 },
 "nbformat": 4,
 "nbformat_minor": 2
}
